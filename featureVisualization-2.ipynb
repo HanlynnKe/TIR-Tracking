{
 "cells": [
  {
   "cell_type": "code",
   "execution_count": 1,
   "metadata": {},
   "outputs": [],
   "source": [
    "import torch\n",
    "import torch.nn as nn\n",
    "import torch.nn.functional as F\n",
    "import torch.optim as optim\n",
    "from torch.utils.data import TensorDataset, DataLoader\n",
    "\n",
    "import numpy as np\n",
    "import matplotlib.pyplot as plt\n",
    "\n",
    "# load data\n",
    "import os\n",
    "import gzip\n",
    "import copy"
   ]
  },
  {
   "cell_type": "code",
   "execution_count": 2,
   "metadata": {},
   "outputs": [],
   "source": [
    "# 从本地加载Fashion-MNIST数据集，返回DataLoader\n",
    "def load_data():\n",
    "\n",
    "    def load_mnist(path, kind='train'):\n",
    "\n",
    "        \"\"\"Load MNIST data from `path`\"\"\"\n",
    "        labels_path = os.path.join(path,\n",
    "                                   '%s-labels-idx1-ubyte.gz'\n",
    "                                   % kind)\n",
    "        images_path = os.path.join(path,\n",
    "                                   '%s-images-idx3-ubyte.gz'\n",
    "                                   % kind)\n",
    "\n",
    "        with gzip.open(labels_path, 'rb') as lbpath:\n",
    "            labels = np.frombuffer(lbpath.read(), dtype=np.uint8,\n",
    "                                   offset=8)\n",
    "\n",
    "        with gzip.open(images_path, 'rb') as imgpath:\n",
    "            images = np.frombuffer(imgpath.read(), dtype=np.uint8,\n",
    "                                   offset=16).reshape(len(labels), 28, 28)\n",
    "\n",
    "        return images, labels\n",
    "\n",
    "    X_train, y_train = load_mnist('./data/Fashion', kind='train')\n",
    "    X_test, y_test = load_mnist('./data/Fashion', kind='t10k')\n",
    "    \n",
    "    X_train = copy.deepcopy(X_train)\n",
    "    y_train = copy.deepcopy(y_train)\n",
    "    X_test = copy.deepcopy(X_test)\n",
    "    y_test = copy.deepcopy(y_test)\n",
    "    \n",
    "    def expand_x_dims(x):\n",
    "        new_x = []\n",
    "        for i in range(len(x)):\n",
    "            x0 = x[i] / 255\n",
    "            x0 = np.expand_dims(x0, axis=0)\n",
    "            new_x.append(x0)\n",
    "        \n",
    "        return np.array(new_x)\n",
    "    \n",
    "    X_train = expand_x_dims(X_train)\n",
    "    X_test = expand_x_dims(X_test)\n",
    "    \n",
    "    \n",
    "    X_train = torch.tensor(X_train, dtype=torch.float32)\n",
    "    y_train = torch.tensor(y_train, dtype=torch.int64)\n",
    "    X_test = torch.tensor(X_test, dtype=torch.float32)\n",
    "    y_test = torch.tensor(y_test, dtype=torch.int64)\n",
    "    \n",
    "    train_set = TensorDataset(X_train, y_train)\n",
    "    test_set = TensorDataset(X_test, y_test)\n",
    "    \n",
    "    train_loader = DataLoader(train_set, batch_size=64, shuffle=True)\n",
    "    test_loader = DataLoader(test_set, batch_size=64, shuffle=True)\n",
    "    \n",
    "    return train_loader, test_loader"
   ]
  },
  {
   "cell_type": "code",
   "execution_count": 3,
   "metadata": {},
   "outputs": [],
   "source": [
    "train_loader, test_loader = load_data()"
   ]
  },
  {
   "cell_type": "code",
   "execution_count": 4,
   "metadata": {},
   "outputs": [],
   "source": [
    "class CNN5(nn.Module):\n",
    "    def __init__(self):\n",
    "        super().__init__()\n",
    "        \n",
    "        self.conv1 = nn.Conv2d(in_channels=1, out_channels=6, kernel_size=5)\n",
    "        self.conv2 = nn.Conv2d(in_channels=6, out_channels=12, kernel_size=5)\n",
    "        self.conv3 = nn.Conv2d(in_channels=12, out_channels=18, kernel_size=5)\n",
    "        self.conv4 = nn.Conv2d(in_channels=18, out_channels=24, kernel_size=5)\n",
    "        self.conv5 = nn.Conv2d(in_channels=24, out_channels=30, kernel_size=5)\n",
    "        self.fc1 = nn.Linear(in_features=30*4*4, out_features=160)\n",
    "        self.fc2 = nn.Linear(in_features=160, out_features=80)\n",
    "        self.out = nn.Linear(in_features=80, out_features=10)\n",
    "        \n",
    "    def forward(self, t):\n",
    "        # 1st convolutional layer\n",
    "        t = F.relu(self.conv1(t))\n",
    "        \n",
    "        # 2nd convolutional layer\n",
    "        t = F.relu(self.conv2(t))\n",
    "\n",
    "        # 3rd convolutional layer\n",
    "        t = F.relu(self.conv3(t))\n",
    "\n",
    "        # 4th convolutional layer\n",
    "        t = F.relu(self.conv4(t))\n",
    "\n",
    "        # 5th convolutional layer\n",
    "        t = F.relu(self.conv5(t))\n",
    "        \n",
    "        # reshaping\n",
    "        t = F.max_pool2d(t, kernel_size=2, stride=2)\n",
    "        t = t.reshape(-1, 30*4*4)\n",
    "        \n",
    "        # 1st fully-connected layer\n",
    "        t = F.relu(self.fc1(t))\n",
    "        \n",
    "        # 2nd fully-connected layer\n",
    "        t = F.relu(self.fc2(t))\n",
    "        \n",
    "        # output layer\n",
    "        t = self.out(t)\n",
    "        \n",
    "        return t"
   ]
  },
  {
   "cell_type": "code",
   "execution_count": 5,
   "metadata": {},
   "outputs": [
    {
     "data": {
      "text/plain": [
       "CNN5(\n",
       "  (conv1): Conv2d(1, 6, kernel_size=(5, 5), stride=(1, 1))\n",
       "  (conv2): Conv2d(6, 12, kernel_size=(5, 5), stride=(1, 1))\n",
       "  (conv3): Conv2d(12, 18, kernel_size=(5, 5), stride=(1, 1))\n",
       "  (conv4): Conv2d(18, 24, kernel_size=(5, 5), stride=(1, 1))\n",
       "  (conv5): Conv2d(24, 30, kernel_size=(5, 5), stride=(1, 1))\n",
       "  (fc1): Linear(in_features=480, out_features=160, bias=True)\n",
       "  (fc2): Linear(in_features=160, out_features=80, bias=True)\n",
       "  (out): Linear(in_features=80, out_features=10, bias=True)\n",
       ")"
      ]
     },
     "execution_count": 5,
     "metadata": {},
     "output_type": "execute_result"
    }
   ],
   "source": [
    "# 加载已有模型\n",
    "net_5 = CNN5()\n",
    "net_5.load_state_dict(torch.load('./data/CNN5-statedict.pth'))\n",
    "net_5.eval()"
   ]
  },
  {
   "cell_type": "code",
   "execution_count": 6,
   "metadata": {},
   "outputs": [],
   "source": [
    "def feature_visualize(net, net_input, label):\n",
    "    \n",
    "    def get_one_conv_layer(net, layer_num, net_input):\n",
    "        # 1st convolutional layer\n",
    "        t = F.relu(net.conv1(net_input))\n",
    "        if layer_num == 1:\n",
    "            return t, 6\n",
    "        \n",
    "        # 2nd convolutional layer\n",
    "        t = F.relu(net.conv2(t))\n",
    "        if layer_num == 2:\n",
    "            return t, 12\n",
    "        \n",
    "        # 3rd convolutional layer\n",
    "        t = F.relu(net.conv3(t))\n",
    "        if layer_num == 3:\n",
    "            return t, 18\n",
    "        \n",
    "        # 4th convolutional layer\n",
    "        t = F.relu(net.conv4(t))\n",
    "        if layer_num == 4:\n",
    "            return t, 24\n",
    "        \n",
    "        # 5th convolutional layer\n",
    "        t = F.relu(net.conv5(t))\n",
    "        if layer_num >= 5:\n",
    "            return t, 30\n",
    "    \n",
    "    # extract features\n",
    "    features = []\n",
    "    for i in range(5):\n",
    "        x, length = get_one_conv_layer(net, i+1, net_input)\n",
    "        x = x.squeeze().detach().numpy()\n",
    "        feature = np.zeros(x[0].shape)\n",
    "        for i in range(length):\n",
    "            feature += x[i]\n",
    "        feature /= length\n",
    "        features.append(feature)\n",
    "    \n",
    "    # visualization using matplotlib\n",
    "    fig, ax = plt.subplots(nrows=1, ncols=6, figsize = (18, 3))\n",
    "    ax[0].imshow(net_input[0][0])\n",
    "    plt.title(label, fontsize='xx-large', loc='right')\n",
    "    ax[1].imshow(features[0])\n",
    "    ax[2].imshow(features[1])\n",
    "    ax[3].imshow(features[2])\n",
    "    ax[4].imshow(features[3])\n",
    "    ax[5].imshow(features[4])\n",
    "    plt.show()"
   ]
  },
  {
   "cell_type": "code",
   "execution_count": 14,
   "metadata": {},
   "outputs": [
    {
     "data": {
      "image/png": "[encoded data removed]",
      "text/plain": [
       "<Figure size 1296x216 with 6 Axes>"
      ]
     },
     "metadata": {
      "needs_background": "light"
     },
     "output_type": "display_data"
    }
   ],
   "source": [
    "# 从DataLoader中提取并可视化样本\n",
    "sample_batch = next(iter(train_loader))\n",
    "images, labels = sample_batch\n",
    "\n",
    "classes = ['T-shirt', 'Trouser', 'Pullover', 'Dress', 'Coat', 'Sandal', 'Shirt', 'Sneaker', 'Bag', 'Ankle boot']\n",
    "feature_visualize(net=net_5, net_input=images[0].unsqueeze(0), label=classes[labels[0]])"
   ]
  },
  {
   "cell_type": "code",
   "execution_count": null,
   "metadata": {},
   "outputs": [],
   "source": []
  }
 ],
 "metadata": {
  "kernelspec": {
   "display_name": "Python 3",
   "language": "python",
   "name": "python3"
  },
  "language_info": {
   "codemirror_mode": {
    "name": "ipython",
    "version": 3
   },
   "file_extension": ".py",
   "mimetype": "text/x-python",
   "name": "python",
   "nbconvert_exporter": "python",
   "pygments_lexer": "ipython3",
   "version": "3.7.4"
  }
 },
 "nbformat": 4,
 "nbformat_minor": 2
}
