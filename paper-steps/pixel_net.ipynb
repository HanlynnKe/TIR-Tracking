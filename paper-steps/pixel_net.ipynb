{
  "nbformat": 4,
  "nbformat_minor": 0,
  "metadata": {
    "colab": {
      "name": "pixel_net.ipynb",
      "provenance": [],
      "collapsed_sections": []
    },
    "kernelspec": {
      "name": "python3",
      "display_name": "Python 3"
    },
    "accelerator": "GPU",
    "widgets": {
      "application/vnd.jupyter.widget-state+json": {
        "61bdf4c7c579481ab6f088bc601a85cf": {
          "model_module": "@jupyter-widgets/controls",
          "model_name": "HBoxModel",
          "state": {
            "_view_name": "HBoxView",
            "_dom_classes": [],
            "_model_name": "HBoxModel",
            "_view_module": "@jupyter-widgets/controls",
            "_model_module_version": "1.5.0",
            "_view_count": null,
            "_view_module_version": "1.5.0",
            "box_style": "",
            "layout": "IPY_MODEL_b1794ffedbdd413694d954b086fd62cc",
            "_model_module": "@jupyter-widgets/controls",
            "children": [
              "IPY_MODEL_0146c05a989449c2b7940c99eec70862",
              "IPY_MODEL_3aa55b8aa4544051a4fc2a1ee4194d43"
            ]
          }
        },
        "b1794ffedbdd413694d954b086fd62cc": {
          "model_module": "@jupyter-widgets/base",
          "model_name": "LayoutModel",
          "state": {
            "_view_name": "LayoutView",
            "grid_template_rows": null,
            "right": null,
            "justify_content": null,
            "_view_module": "@jupyter-widgets/base",
            "overflow": null,
            "_model_module_version": "1.2.0",
            "_view_count": null,
            "flex_flow": null,
            "width": null,
            "min_width": null,
            "border": null,
            "align_items": null,
            "bottom": null,
            "_model_module": "@jupyter-widgets/base",
            "top": null,
            "grid_column": null,
            "overflow_y": null,
            "overflow_x": null,
            "grid_auto_flow": null,
            "grid_area": null,
            "grid_template_columns": null,
            "flex": null,
            "_model_name": "LayoutModel",
            "justify_items": null,
            "grid_row": null,
            "max_height": null,
            "align_content": null,
            "visibility": null,
            "align_self": null,
            "height": null,
            "min_height": null,
            "padding": null,
            "grid_auto_rows": null,
            "grid_gap": null,
            "max_width": null,
            "order": null,
            "_view_module_version": "1.2.0",
            "grid_template_areas": null,
            "object_position": null,
            "object_fit": null,
            "grid_auto_columns": null,
            "margin": null,
            "display": null,
            "left": null
          }
        },
        "0146c05a989449c2b7940c99eec70862": {
          "model_module": "@jupyter-widgets/controls",
          "model_name": "IntProgressModel",
          "state": {
            "_view_name": "ProgressView",
            "style": "IPY_MODEL_9f78128e33444e418e93c04805e5d538",
            "_dom_classes": [],
            "description": "100%",
            "_model_name": "IntProgressModel",
            "bar_style": "success",
            "max": 244418560,
            "_view_module": "@jupyter-widgets/controls",
            "_model_module_version": "1.5.0",
            "value": 244418560,
            "_view_count": null,
            "_view_module_version": "1.5.0",
            "orientation": "horizontal",
            "min": 0,
            "description_tooltip": null,
            "_model_module": "@jupyter-widgets/controls",
            "layout": "IPY_MODEL_b9207cd147f944f6b286b9727d0abcd1"
          }
        },
        "3aa55b8aa4544051a4fc2a1ee4194d43": {
          "model_module": "@jupyter-widgets/controls",
          "model_name": "HTMLModel",
          "state": {
            "_view_name": "HTMLView",
            "style": "IPY_MODEL_59e4bd898c5c4cf3a460315d710be6a3",
            "_dom_classes": [],
            "description": "",
            "_model_name": "HTMLModel",
            "placeholder": "​",
            "_view_module": "@jupyter-widgets/controls",
            "_model_module_version": "1.5.0",
            "value": " 233M/233M [00:59&lt;00:00, 4.09MB/s]",
            "_view_count": null,
            "_view_module_version": "1.5.0",
            "description_tooltip": null,
            "_model_module": "@jupyter-widgets/controls",
            "layout": "IPY_MODEL_68c5ea8287ca48f9a1ccaa900151d739"
          }
        },
        "9f78128e33444e418e93c04805e5d538": {
          "model_module": "@jupyter-widgets/controls",
          "model_name": "ProgressStyleModel",
          "state": {
            "_view_name": "StyleView",
            "_model_name": "ProgressStyleModel",
            "description_width": "initial",
            "_view_module": "@jupyter-widgets/base",
            "_model_module_version": "1.5.0",
            "_view_count": null,
            "_view_module_version": "1.2.0",
            "bar_color": null,
            "_model_module": "@jupyter-widgets/controls"
          }
        },
        "b9207cd147f944f6b286b9727d0abcd1": {
          "model_module": "@jupyter-widgets/base",
          "model_name": "LayoutModel",
          "state": {
            "_view_name": "LayoutView",
            "grid_template_rows": null,
            "right": null,
            "justify_content": null,
            "_view_module": "@jupyter-widgets/base",
            "overflow": null,
            "_model_module_version": "1.2.0",
            "_view_count": null,
            "flex_flow": null,
            "width": null,
            "min_width": null,
            "border": null,
            "align_items": null,
            "bottom": null,
            "_model_module": "@jupyter-widgets/base",
            "top": null,
            "grid_column": null,
            "overflow_y": null,
            "overflow_x": null,
            "grid_auto_flow": null,
            "grid_area": null,
            "grid_template_columns": null,
            "flex": null,
            "_model_name": "LayoutModel",
            "justify_items": null,
            "grid_row": null,
            "max_height": null,
            "align_content": null,
            "visibility": null,
            "align_self": null,
            "height": null,
            "min_height": null,
            "padding": null,
            "grid_auto_rows": null,
            "grid_gap": null,
            "max_width": null,
            "order": null,
            "_view_module_version": "1.2.0",
            "grid_template_areas": null,
            "object_position": null,
            "object_fit": null,
            "grid_auto_columns": null,
            "margin": null,
            "display": null,
            "left": null
          }
        },
        "59e4bd898c5c4cf3a460315d710be6a3": {
          "model_module": "@jupyter-widgets/controls",
          "model_name": "DescriptionStyleModel",
          "state": {
            "_view_name": "StyleView",
            "_model_name": "DescriptionStyleModel",
            "description_width": "",
            "_view_module": "@jupyter-widgets/base",
            "_model_module_version": "1.5.0",
            "_view_count": null,
            "_view_module_version": "1.2.0",
            "_model_module": "@jupyter-widgets/controls"
          }
        },
        "68c5ea8287ca48f9a1ccaa900151d739": {
          "model_module": "@jupyter-widgets/base",
          "model_name": "LayoutModel",
          "state": {
            "_view_name": "LayoutView",
            "grid_template_rows": null,
            "right": null,
            "justify_content": null,
            "_view_module": "@jupyter-widgets/base",
            "overflow": null,
            "_model_module_version": "1.2.0",
            "_view_count": null,
            "flex_flow": null,
            "width": null,
            "min_width": null,
            "border": null,
            "align_items": null,
            "bottom": null,
            "_model_module": "@jupyter-widgets/base",
            "top": null,
            "grid_column": null,
            "overflow_y": null,
            "overflow_x": null,
            "grid_auto_flow": null,
            "grid_area": null,
            "grid_template_columns": null,
            "flex": null,
            "_model_name": "LayoutModel",
            "justify_items": null,
            "grid_row": null,
            "max_height": null,
            "align_content": null,
            "visibility": null,
            "align_self": null,
            "height": null,
            "min_height": null,
            "padding": null,
            "grid_auto_rows": null,
            "grid_gap": null,
            "max_width": null,
            "order": null,
            "_view_module_version": "1.2.0",
            "grid_template_areas": null,
            "object_position": null,
            "object_fit": null,
            "grid_auto_columns": null,
            "margin": null,
            "display": null,
            "left": null
          }
        }
      }
    }
  },
  "cells": [
    {
      "cell_type": "code",
      "metadata": {
        "id": "kOwS5BfA2cR6",
        "colab_type": "code",
        "outputId": "7eb1d8b1-2399-4330-a176-24177545b39b",
        "colab": {
          "base_uri": "https://localhost:8080/",
          "height": 306
        }
      },
      "source": [
        "!nvidia-smi"
      ],
      "execution_count": 0,
      "outputs": [
        {
          "output_type": "stream",
          "text": [
            "Sat Apr 11 01:29:33 2020       \n",
            "+-----------------------------------------------------------------------------+\n",
            "| NVIDIA-SMI 440.64.00    Driver Version: 418.67       CUDA Version: 10.1     |\n",
            "|-------------------------------+----------------------+----------------------+\n",
            "| GPU  Name        Persistence-M| Bus-Id        Disp.A | Volatile Uncorr. ECC |\n",
            "| Fan  Temp  Perf  Pwr:Usage/Cap|         Memory-Usage | GPU-Util  Compute M. |\n",
            "|===============================+======================+======================|\n",
            "|   0  Tesla T4            Off  | 00000000:00:04.0 Off |                    0 |\n",
            "| N/A   51C    P8    10W /  70W |      0MiB / 15079MiB |      0%      Default |\n",
            "+-------------------------------+----------------------+----------------------+\n",
            "                                                                               \n",
            "+-----------------------------------------------------------------------------+\n",
            "| Processes:                                                       GPU Memory |\n",
            "|  GPU       PID   Type   Process name                             Usage      |\n",
            "|=============================================================================|\n",
            "|  No running processes found                                                 |\n",
            "+-----------------------------------------------------------------------------+\n"
          ],
          "name": "stdout"
        }
      ]
    },
    {
      "cell_type": "code",
      "metadata": {
        "id": "KOo3BD2-o6lE",
        "colab_type": "code",
        "colab": {}
      },
      "source": [
        "import numpy as np\n",
        "import torch\n",
        "import torch.nn as nn\n",
        "import torch.nn.functional as F\n",
        "import torch.optim as optim\n",
        "\n",
        "import matplotlib.pyplot as plt"
      ],
      "execution_count": 0,
      "outputs": []
    },
    {
      "cell_type": "code",
      "metadata": {
        "id": "CEW0Km6vTqj_",
        "colab_type": "code",
        "colab": {}
      },
      "source": [
        "import torch.utils.data as data\n",
        "import torchvision\n",
        "import torchvision.models as models\n",
        "import torchvision.datasets as datasets\n",
        "import torchvision.transforms as transforms"
      ],
      "execution_count": 0,
      "outputs": []
    },
    {
      "cell_type": "code",
      "metadata": {
        "id": "jvuRn-MD5LsR",
        "colab_type": "code",
        "outputId": "74413a23-d533-411a-a02f-135f54428ca0",
        "colab": {
          "base_uri": "https://localhost:8080/",
          "height": 83,
          "referenced_widgets": [
            "61bdf4c7c579481ab6f088bc601a85cf",
            "b1794ffedbdd413694d954b086fd62cc",
            "0146c05a989449c2b7940c99eec70862",
            "3aa55b8aa4544051a4fc2a1ee4194d43",
            "9f78128e33444e418e93c04805e5d538",
            "b9207cd147f944f6b286b9727d0abcd1",
            "59e4bd898c5c4cf3a460315d710be6a3",
            "68c5ea8287ca48f9a1ccaa900151d739"
          ]
        }
      },
      "source": [
        "alexnet = models.alexnet(pretrained=True)"
      ],
      "execution_count": 0,
      "outputs": [
        {
          "output_type": "stream",
          "text": [
            "Downloading: \"https://download.pytorch.org/models/alexnet-owt-4df8aa71.pth\" to /root/.cache/torch/checkpoints/alexnet-owt-4df8aa71.pth\n"
          ],
          "name": "stderr"
        },
        {
          "output_type": "display_data",
          "data": {
            "application/vnd.jupyter.widget-view+json": {
              "model_id": "61bdf4c7c579481ab6f088bc601a85cf",
              "version_minor": 0,
              "version_major": 2
            },
            "text/plain": [
              "HBox(children=(IntProgress(value=0, max=244418560), HTML(value='')))"
            ]
          },
          "metadata": {
            "tags": []
          }
        },
        {
          "output_type": "stream",
          "text": [
            "\n"
          ],
          "name": "stdout"
        }
      ]
    },
    {
      "cell_type": "code",
      "metadata": {
        "id": "EBDRPvTh66AS",
        "colab_type": "code",
        "colab": {}
      },
      "source": [
        "Features = alexnet.features[8:]\n",
        "for param in Features.parameters():\n",
        "    param.requires_grad = False\n",
        "\n",
        "AvgPool = alexnet.avgpool\n",
        "\n",
        "Classifier = alexnet.classifier\n",
        "Classifier[4] = nn.Linear(in_features=4096, out_features=1024, bias=True)\n",
        "Classifier[6] = nn.Linear(in_features=1024, out_features=2, bias=True)"
      ],
      "execution_count": 0,
      "outputs": []
    },
    {
      "cell_type": "code",
      "metadata": {
        "id": "JIOpEPUTDwov",
        "colab_type": "code",
        "colab": {}
      },
      "source": [
        "class ShallowNet(nn.Module):\n",
        "    def __init__(self, alexnet):\n",
        "        super(ShallowNet, self).__init__()\n",
        "        shallownet = alexnet.features[:8]\n",
        "        for param in shallownet.parameters():\n",
        "            param.requires_grad = False\n",
        "        \n",
        "        self.Conv1 = shallownet[:2]\n",
        "        self.MaxP1 = shallownet[2]\n",
        "        self.MaxP1 = nn.MaxPool2d(kernel_size=3, stride=2, padding=0, dilation=1, ceil_mode=False)\n",
        "        self.Conv2 = shallownet[3:5]\n",
        "        self.MaxP2 = shallownet[5]\n",
        "        self.MaxP2 = nn.MaxPool2d(kernel_size=3, stride=2, padding=0, dilation=1, ceil_mode=False)\n",
        "        self.Conv3 = shallownet[6:]\n",
        "        \n",
        "    def forward(self, x):\n",
        "        x = self.Conv1(x)\n",
        "        x = self.MaxP1(x)\n",
        "        \n",
        "        x = self.Conv2(x)\n",
        "        x = self.MaxP2(x)\n",
        "        \n",
        "        x = self.Conv3(x)\n",
        "\n",
        "        return x"
      ],
      "execution_count": 0,
      "outputs": []
    },
    {
      "cell_type": "code",
      "metadata": {
        "id": "WjsrrHe364UP",
        "colab_type": "code",
        "outputId": "cf83134e-a628-4d75-e6fe-02518ec2c346",
        "colab": {
          "base_uri": "https://localhost:8080/",
          "height": 476
        }
      },
      "source": [
        "print(alexnet)"
      ],
      "execution_count": 0,
      "outputs": [
        {
          "output_type": "stream",
          "text": [
            "AlexNet(\n",
            "  (features): Sequential(\n",
            "    (0): Conv2d(3, 64, kernel_size=(11, 11), stride=(4, 4), padding=(2, 2))\n",
            "    (1): ReLU(inplace=True)\n",
            "    (2): MaxPool2d(kernel_size=3, stride=2, padding=0, dilation=1, ceil_mode=False)\n",
            "    (3): Conv2d(64, 192, kernel_size=(5, 5), stride=(1, 1), padding=(2, 2))\n",
            "    (4): ReLU(inplace=True)\n",
            "    (5): MaxPool2d(kernel_size=3, stride=2, padding=0, dilation=1, ceil_mode=False)\n",
            "    (6): Conv2d(192, 384, kernel_size=(3, 3), stride=(1, 1), padding=(1, 1))\n",
            "    (7): ReLU(inplace=True)\n",
            "    (8): Conv2d(384, 256, kernel_size=(3, 3), stride=(1, 1), padding=(1, 1))\n",
            "    (9): ReLU(inplace=True)\n",
            "    (10): Conv2d(256, 256, kernel_size=(3, 3), stride=(1, 1), padding=(1, 1))\n",
            "    (11): ReLU(inplace=True)\n",
            "    (12): MaxPool2d(kernel_size=3, stride=2, padding=0, dilation=1, ceil_mode=False)\n",
            "  )\n",
            "  (avgpool): AdaptiveAvgPool2d(output_size=(6, 6))\n",
            "  (classifier): Sequential(\n",
            "    (0): Dropout(p=0.5, inplace=False)\n",
            "    (1): Linear(in_features=9216, out_features=4096, bias=True)\n",
            "    (2): ReLU(inplace=True)\n",
            "    (3): Dropout(p=0.5, inplace=False)\n",
            "    (4): Linear(in_features=4096, out_features=1024, bias=True)\n",
            "    (5): ReLU(inplace=True)\n",
            "    (6): Linear(in_features=1024, out_features=2, bias=True)\n",
            "  )\n",
            ")\n"
          ],
          "name": "stdout"
        }
      ]
    },
    {
      "cell_type": "code",
      "metadata": {
        "id": "Pbjyota39cBS",
        "colab_type": "code",
        "colab": {}
      },
      "source": [
        "# This will require you doing a lot of data preprocessing because\n",
        "# the dataset isn't split into training and validation for you\n",
        "# This code block has all the required inputs\n",
        "import os\n",
        "import zipfile\n",
        "import random\n",
        "from shutil import copyfile"
      ],
      "execution_count": 0,
      "outputs": []
    },
    {
      "cell_type": "code",
      "metadata": {
        "id": "k5aeN1lVHd_i",
        "colab_type": "code",
        "outputId": "a85f8311-34e9-43c6-806d-083826d95879",
        "colab": {
          "base_uri": "https://localhost:8080/",
          "height": 204
        }
      },
      "source": [
        "# This code block downloads the full Cats-v-Dogs dataset and stores it as \n",
        "# cats-and-dogs.zip. It then unzips it to /tmp\n",
        "# which will create a tmp/PetImages directory containing subdirectories\n",
        "# called 'Cat' and 'Dog' (that's how the original researchers structured it)\n",
        "# If the URL doesn't work, \n",
        "# .   visit https://www.microsoft.com/en-us/download/confirmation.aspx?id=54765\n",
        "# And right click on the 'Download Manually' link to get a new URL\n",
        "!wget --no-check-certificate \\\n",
        "    \"https://download.microsoft.com/download/3/E/1/3E1C3F21-ECDB-4869-8368-6DEBA77B919F/kagglecatsanddogs_3367a.zip\" \\\n",
        "    -O \"/tmp/cats-and-dogs.zip\"\n",
        "\n",
        "local_zip = '/tmp/cats-and-dogs.zip'\n",
        "zip_ref = zipfile.ZipFile(local_zip, 'r')\n",
        "zip_ref.extractall('/tmp')\n",
        "zip_ref.close()\n"
      ],
      "execution_count": 0,
      "outputs": [
        {
          "output_type": "stream",
          "text": [
            "--2020-04-11 01:29:57--  https://download.microsoft.com/download/3/E/1/3E1C3F21-ECDB-4869-8368-6DEBA77B919F/kagglecatsanddogs_3367a.zip\n",
            "Resolving download.microsoft.com (download.microsoft.com)... 2.19.105.18, 2a02:26f0:fe00:1a1::e59, 2a02:26f0:fe00:1b5::e59\n",
            "Connecting to download.microsoft.com (download.microsoft.com)|2.19.105.18|:443... connected.\n",
            "HTTP request sent, awaiting response... 200 OK\n",
            "Length: 824894548 (787M) [application/octet-stream]\n",
            "Saving to: ‘/tmp/cats-and-dogs.zip’\n",
            "\n",
            "/tmp/cats-and-dogs. 100%[===================>] 786.68M  14.5MB/s    in 46s     \n",
            "\n",
            "2020-04-11 01:30:43 (17.0 MB/s) - ‘/tmp/cats-and-dogs.zip’ saved [824894548/824894548]\n",
            "\n"
          ],
          "name": "stdout"
        }
      ]
    },
    {
      "cell_type": "code",
      "metadata": {
        "id": "zBqeb2xRHm-P",
        "colab_type": "code",
        "outputId": "54513297-dc4a-4ea2-b67e-3a56aba34718",
        "colab": {
          "base_uri": "https://localhost:8080/",
          "height": 51
        }
      },
      "source": [
        "print(len(os.listdir('/tmp/PetImages/Cat/')))\n",
        "print(len(os.listdir('/tmp/PetImages/Dog/')))\n",
        "\n",
        "# Expected Output:\n",
        "# 12501\n",
        "# 12501"
      ],
      "execution_count": 0,
      "outputs": [
        {
          "output_type": "stream",
          "text": [
            "12501\n",
            "12501\n"
          ],
          "name": "stdout"
        }
      ]
    },
    {
      "cell_type": "code",
      "metadata": {
        "id": "pIjlihIlHn9W",
        "colab_type": "code",
        "outputId": "81d6c2c2-91a8-45d7-8918-1461a4501653",
        "colab": {
          "base_uri": "https://localhost:8080/",
          "height": 34
        }
      },
      "source": [
        "# Use os.mkdir to create your directories\n",
        "# You will need a directory for cats-v-dogs, and subdirectories for training\n",
        "# and testing. These in turn will need subdirectories for 'cats' and 'dogs'\n",
        "try:\n",
        "    os.mkdir('/tmp/cats-v-dogs')\n",
        "    os.mkdir('/tmp/cats-v-dogs/training')\n",
        "    os.mkdir('/tmp/cats-v-dogs/testing')\n",
        "    os.mkdir('/tmp/cats-v-dogs/training/cats')\n",
        "    os.mkdir('/tmp/cats-v-dogs/training/dogs')\n",
        "    os.mkdir('/tmp/cats-v-dogs/testing/cats')\n",
        "    os.mkdir('/tmp/cats-v-dogs/testing/dogs')\n",
        "    \n",
        "    print(\"done\")\n",
        "except OSError:\n",
        "    pass"
      ],
      "execution_count": 0,
      "outputs": [
        {
          "output_type": "stream",
          "text": [
            "done\n"
          ],
          "name": "stdout"
        }
      ]
    },
    {
      "cell_type": "code",
      "metadata": {
        "id": "GnOPwun_H75U",
        "colab_type": "code",
        "outputId": "47217206-a366-478a-d673-03ed18f073e7",
        "colab": {
          "base_uri": "https://localhost:8080/",
          "height": 51
        }
      },
      "source": [
        "# Write a python function called split_data which takes\n",
        "# a SOURCE directory containing the files\n",
        "# a TRAINING directory that a portion of the files will be copied to\n",
        "# a TESTING directory that a portion of the files will be copie to\n",
        "# a SPLIT SIZE to determine the portion\n",
        "# The files should also be randomized, so that the training set is a random\n",
        "# X% of the files, and the test set is the remaining files\n",
        "# SO, for example, if SOURCE is PetImages/Cat, and SPLIT SIZE is .9\n",
        "# Then 90% of the images in PetImages/Cat will be copied to the TRAINING dir\n",
        "# and 10% of the images will be copied to the TESTING dir\n",
        "# Also -- All images should be checked, and if they have a zero file length,\n",
        "# they will not be copied over\n",
        "#\n",
        "# os.listdir(DIRECTORY) gives you a listing of the contents of that directory\n",
        "# os.path.getsize(PATH) gives you the size of the file\n",
        "# copyfile(source, destination) copies a file from source to destination\n",
        "# random.sample(list, len(list)) shuffles a list\n",
        "def split_data(SOURCE, TRAINING, TESTING, SPLIT_SIZE):\n",
        "  \n",
        "    files = []\n",
        "    for filename in os.listdir(SOURCE):\n",
        "      file = SOURCE + filename\n",
        "      if os.path.getsize(file) > 0:\n",
        "        files.append(filename)\n",
        "      else:\n",
        "        print(filename + \" is zero lenght, so ignoring\")\n",
        "    \n",
        "    training_length = int(len(files) * SPLIT_SIZE)\n",
        "    shuffled_set = random.sample(files, len(files))\n",
        "    training_set = shuffled_set[:training_length]\n",
        "    testing_set = shuffled_set[training_length:]\n",
        "    \n",
        "    for filename in training_set:\n",
        "      this_file = SOURCE + filename\n",
        "      destination = TRAINING + filename\n",
        "      copyfile(this_file, destination)\n",
        "    \n",
        "    for filename in testing_set:\n",
        "      this_file = SOURCE + filename\n",
        "      destination = TESTING + filename\n",
        "      copyfile(this_file, destination)\n",
        "    \n",
        "    \n",
        "CAT_SOURCE_DIR = \"/tmp/PetImages/Cat/\"\n",
        "TRAINING_CATS_DIR = \"/tmp/cats-v-dogs/training/cats/\"\n",
        "TESTING_CATS_DIR = \"/tmp/cats-v-dogs/testing/cats/\"\n",
        "DOG_SOURCE_DIR = \"/tmp/PetImages/Dog/\"\n",
        "TRAINING_DOGS_DIR = \"/tmp/cats-v-dogs/training/dogs/\"\n",
        "TESTING_DOGS_DIR = \"/tmp/cats-v-dogs/testing/dogs/\"\n",
        "\n",
        "split_size = .9\n",
        "split_data(CAT_SOURCE_DIR, TRAINING_CATS_DIR, TESTING_CATS_DIR, split_size)\n",
        "split_data(DOG_SOURCE_DIR, TRAINING_DOGS_DIR, TESTING_DOGS_DIR, split_size)\n",
        "\n",
        "# Expected output\n",
        "# 666.jpg is zero length, so ignoring\n",
        "# 11702.jpg is zero length, so ignoring"
      ],
      "execution_count": 0,
      "outputs": [
        {
          "output_type": "stream",
          "text": [
            "666.jpg is zero lenght, so ignoring\n",
            "11702.jpg is zero lenght, so ignoring\n"
          ],
          "name": "stdout"
        }
      ]
    },
    {
      "cell_type": "code",
      "metadata": {
        "id": "GI7IRR65IAxN",
        "colab_type": "code",
        "outputId": "ff416135-6f19-4e3d-85e8-ad736aa4b65c",
        "colab": {
          "base_uri": "https://localhost:8080/",
          "height": 85
        }
      },
      "source": [
        "print(len(os.listdir('/tmp/cats-v-dogs/training/cats/')))\n",
        "print(len(os.listdir('/tmp/cats-v-dogs/training/dogs/')))\n",
        "print(len(os.listdir('/tmp/cats-v-dogs/testing/cats/')))\n",
        "print(len(os.listdir('/tmp/cats-v-dogs/testing/dogs/')))\n",
        "\n",
        "# Expected output:\n",
        "# 11250\n",
        "# 11250\n",
        "# 1250\n",
        "# 1250"
      ],
      "execution_count": 0,
      "outputs": [
        {
          "output_type": "stream",
          "text": [
            "11250\n",
            "11250\n",
            "1250\n",
            "1250\n"
          ],
          "name": "stdout"
        }
      ]
    },
    {
      "cell_type": "code",
      "metadata": {
        "id": "vfVpGQWZIDrL",
        "colab_type": "code",
        "colab": {}
      },
      "source": [
        "# Data loading code\n",
        "traindir = '/tmp/cats-v-dogs/training'\n",
        "valdir = '/tmp/cats-v-dogs/testing'\n",
        "\n",
        "normalize = transforms.Normalize(mean=[0.485, 0.456, 0.406], std=[0.229, 0.224, 0.225])\n",
        "\n",
        "train_loader = data.DataLoader(\n",
        "    datasets.ImageFolder(traindir,\n",
        "                            transforms.Compose([\n",
        "                                transforms.RandomResizedCrop(224),\n",
        "                                transforms.RandomHorizontalFlip(),\n",
        "                                transforms.ToTensor(),\n",
        "                                normalize,\n",
        "                            ])),\n",
        "    batch_size=50,\n",
        "    shuffle=True)\n",
        "\n",
        "val_loader = data.DataLoader(\n",
        "    datasets.ImageFolder(valdir,\n",
        "                            transforms.Compose([\n",
        "                                transforms.Resize(256),\n",
        "                                transforms.CenterCrop(224),\n",
        "                                transforms.ToTensor(),\n",
        "                                normalize,\n",
        "                            ])),\n",
        "    batch_size=50,\n",
        "    shuffle=True)"
      ],
      "execution_count": 0,
      "outputs": []
    },
    {
      "cell_type": "code",
      "metadata": {
        "colab_type": "code",
        "outputId": "283670f8-299a-492e-aa0b-40d9760f0c1d",
        "id": "EbYs2xTayDJu",
        "colab": {
          "base_uri": "https://localhost:8080/",
          "height": 34
        }
      },
      "source": [
        "_sample_batch = next(iter(train_loader))\n",
        "_images, _labels = _sample_batch\n",
        "print(_images.shape)"
      ],
      "execution_count": 0,
      "outputs": [
        {
          "output_type": "stream",
          "text": [
            "torch.Size([50, 3, 224, 224])\n"
          ],
          "name": "stdout"
        }
      ]
    },
    {
      "cell_type": "code",
      "metadata": {
        "id": "mYCfdbza6XT3",
        "colab_type": "code",
        "colab": {}
      },
      "source": [
        "def get_num_correct(preds, labels):\n",
        "    return preds.argmax(dim=1).eq(labels).sum().item()"
      ],
      "execution_count": 0,
      "outputs": []
    },
    {
      "cell_type": "code",
      "metadata": {
        "colab_type": "code",
        "id": "52vz0HYR2MSA",
        "colab": {}
      },
      "source": [
        "class AttentionBlock(nn.Module):\n",
        "    def __init__(self, in_channels):\n",
        "        super(AttentionBlock, self).__init__()\n",
        "        \n",
        "        self.in_channels = in_channels\n",
        "        self.out_channels = in_channels\n",
        "\n",
        "        self.conv = nn.Conv2d(self.in_channels, 1, kernel_size=1)\n",
        "        self.softmax = nn.Softmax(dim=2)\n",
        "\n",
        "        self.transformer = nn.Sequential(\n",
        "            nn.Conv2d(self.in_channels, self.out_channels, kernel_size=1),\n",
        "            nn.LayerNorm([self.out_channels, 1, 1]),\n",
        "            nn.ReLU(inplace=True),\n",
        "            nn.Conv2d(self.out_channels, self.in_channels, kernel_size=1)\n",
        "        )\n",
        "        nn.init.constant_(self.transformer[-1].weight, 0)\n",
        "        nn.init.constant_(self.transformer[-1].bias, 0)\n",
        "\n",
        "    def feature_extractor(self, x):\n",
        "        batch, channel, height, width = x.size()\n",
        "        \n",
        "        route_1 = x\n",
        "        # [N, C, H * W]\n",
        "        route_1 = route_1.view(batch, channel, height * width)\n",
        "        # [N, 1, C, H * W]\n",
        "        route_1 = route_1.unsqueeze(1)\n",
        "        \n",
        "        # [N, 1, H, W]\n",
        "        route_2 = self.conv(x)\n",
        "        # [N, 1, H * W]\n",
        "        route_2 = route_2.view(batch, 1, height * width)\n",
        "        # [N, 1, H * W]\n",
        "        route_2 = self.softmax(route_2)\n",
        "        # [N, 1, H * W, 1]\n",
        "        route_2 = route_2.unsqueeze(-1)\n",
        "        \n",
        "        # [N, 1, C, 1]\n",
        "        feature = torch.matmul(route_1, route_2)\n",
        "        # [N, C, 1, 1]\n",
        "        feature = feature.view(batch, channel, 1, 1)\n",
        "\n",
        "        return feature\n",
        "\n",
        "    def forward(self, x):\n",
        "        # [N, C, 1, 1]\n",
        "        feature = self.feature_extractor(x)\n",
        "        fine_grained = self.transformer(feature)\n",
        "        out = x + fine_grained\n",
        "\n",
        "        return out"
      ],
      "execution_count": 0,
      "outputs": []
    },
    {
      "cell_type": "code",
      "metadata": {
        "id": "m_TONW46awtS",
        "colab_type": "code",
        "colab": {}
      },
      "source": [
        "class ShallowResNet(nn.Module):\n",
        "    def __init__(self, resnet50):\n",
        "        super(ShallowResNet, self).__init__()\n",
        "        self.Layer1 = nn.Sequential(\n",
        "            resnet50.conv1,\n",
        "            resnet50.bn1,\n",
        "            resnet50.relu,\n",
        "            resnet50.maxpool,\n",
        "        )\n",
        "        self.Layer2 = nn.Sequential(\n",
        "            resnet50.layer1[0].conv1,\n",
        "            resnet50.layer1[0].bn1,\n",
        "        )\n",
        "        self.Layer3 = nn.Sequential(\n",
        "            resnet50.layer1[0].conv3,\n",
        "            resnet50.layer1[0].bn3,\n",
        "        )\n",
        "\n",
        "        for param in self.Layer1.parameters():\n",
        "            param.requires_grad = False\n",
        "        for param in self.Layer2.parameters():\n",
        "            param.requires_grad = False\n",
        "        for param in self.Layer3.parameters():\n",
        "            param.requires_grad = False\n",
        "        \n",
        "    def forward(self, x):\n",
        "        x = self.Layer1(x)        \n",
        "        x = self.Layer2(x)        \n",
        "        x = self.Layer3(x)\n",
        "\n",
        "        return x"
      ],
      "execution_count": 0,
      "outputs": []
    },
    {
      "cell_type": "code",
      "metadata": {
        "id": "Egqy4Bi-fDcl",
        "colab_type": "code",
        "colab": {}
      },
      "source": [
        "class EmbeddedPixelNet(nn.Module):\n",
        "    def __init__(self):\n",
        "        super().__init__()\n",
        "        resnet50 = models.resnet50(pretrained=True)\n",
        "        for param in resnet50.parameters():\n",
        "            param.requires_grad = False\n",
        "        \n",
        "        self.shallow = ShallowResNet(resnet50)\n",
        "        \n",
        "        self.atblock_1 = AttentionBlock(in_channels=256)\n",
        "        self.atblock_2 = AttentionBlock(in_channels=256)\n",
        "        self.W = nn.Sequential(\n",
        "            nn.Conv2d(in_channels=512, out_channels=256, kernel_size=1, stride=1, padding=0),\n",
        "            nn.BatchNorm2d(256),\n",
        "        )\n",
        "        nn.init.constant_(self.W[1].weight, 0)\n",
        "        nn.init.constant_(self.W[1].bias, 0)\n",
        "\n",
        "        self.layer1 = nn.Sequential(\n",
        "            resnet50.conv1,\n",
        "            resnet50.bn1,\n",
        "            resnet50.relu,\n",
        "            resnet50.maxpool,\n",
        "            resnet50.layer1,\n",
        "        )\n",
        "        self.layer2 = resnet50.layer2\n",
        "        self.layer3 = resnet50.layer3\n",
        "        self.layer4 = resnet50.layer4\n",
        "\n",
        "        self.avgpool = resnet50.avgpool\n",
        "        self.fcn = nn.Sequential(\n",
        "            nn.Dropout(p=0.5, inplace=False),\n",
        "            nn.Linear(in_features=2048, out_features=512, bias=True),\n",
        "            nn.ReLU(inplace=True),\n",
        "            nn.Dropout(p=0.5, inplace=False),\n",
        "            nn.Linear(in_features=512, out_features=128, bias=True),\n",
        "            nn.ReLU(inplace=True),\n",
        "            nn.Linear(in_features=128, out_features=2, bias=True),\n",
        "        )\n",
        "        \n",
        "    def forward(self, t):\n",
        "\n",
        "        _t1 = self.shallow(t)\n",
        "        t_1 = self.atblock_1(_t1)\n",
        "        t_2 = self.atblock_2(_t1)\n",
        "        t1_ = torch.cat((t_1, t_2), 1)\n",
        "        t1_ = self.W(t1_)\n",
        "        _t1 = _t1 + t1_\n",
        "        _t2 = self.layer1(t)    \n",
        "        t = _t1 + _t2\n",
        "\n",
        "        t = self.layer2(t)\n",
        "        t = self.layer3(t)\n",
        "        t = self.layer4(t)\n",
        "\n",
        "        t = self.avgpool(t)\n",
        "\n",
        "        b, c, _, _ = t.size()\n",
        "        t = self.fcn(t.view(b,c))\n",
        "        \n",
        "        return t"
      ],
      "execution_count": 0,
      "outputs": []
    },
    {
      "cell_type": "code",
      "metadata": {
        "id": "zBIAWlCHwWJr",
        "colab_type": "code",
        "outputId": "b1b95194-8d4d-473d-8f50-8eeedb401a2e",
        "colab": {
          "base_uri": "https://localhost:8080/",
          "height": 649
        }
      },
      "source": [
        "et = EmbeddedPixelNet().cuda()\n",
        "optimizer = optim.SGD(et.parameters(), lr=0.0001, momentum=0.9)\n",
        "epoch_num = 20\n",
        "\n",
        "for epoch in range(epoch_num):\n",
        "    \n",
        "    train_loss = 0\n",
        "    train_correct = 0\n",
        "    val_loss = 0\n",
        "    val_correct = 0\n",
        "\n",
        "    # train\n",
        "    et.train()\n",
        "    for batch in train_loader:    # Get the batch\n",
        "        images, labels = batch\n",
        "\n",
        "        images = images.cuda()\n",
        "        labels = labels.cuda()\n",
        "        \n",
        "        preds = et(images)   # Pass the batch\n",
        "        loss = F.cross_entropy(preds, labels)    # Calculate the loss\n",
        "\n",
        "\n",
        "        optimizer.zero_grad()\n",
        "        loss.backward()    # Calculate the gradients\n",
        "        optimizer.step()   # Update the weights\n",
        "\n",
        "        train_loss += loss.item()\n",
        "        train_correct += get_num_correct(preds, labels)\n",
        "    \n",
        "    # evaluate\n",
        "    et.eval()\n",
        "    with torch.no_grad():\n",
        "        for batch in val_loader:    # Get the batch\n",
        "            images, labels = batch\n",
        "\n",
        "            images = images.cuda()\n",
        "            labels = labels.cuda()\n",
        "            \n",
        "            preds = et(images)   # Pass the batch\n",
        "            loss = F.cross_entropy(preds, labels)    # Calculate the loss\n",
        "\n",
        "            val_loss += loss.item()\n",
        "            val_correct += get_num_correct(preds, labels)\n",
        "    \n",
        "    print(\"Epoch:{} , train_accuracy:{:.2f}% , train_loss:{}, val_accuracy:{:.2f}% , val_loss:{}\".format(\n",
        "        epoch+1, \n",
        "        train_correct/(50*len(train_loader))*100, train_loss, \n",
        "        val_correct/(50*len(val_loader))*100, val_loss)\n",
        "    )"
      ],
      "execution_count": 0,
      "outputs": [
        {
          "output_type": "stream",
          "text": [
            "/usr/local/lib/python3.6/dist-packages/PIL/TiffImagePlugin.py:770: UserWarning: Possibly corrupt EXIF data.  Expecting to read 32 bytes but only got 0. Skipping tag 270\n",
            "  \" Skipping tag %s\" % (size, len(data), tag)\n",
            "/usr/local/lib/python3.6/dist-packages/PIL/TiffImagePlugin.py:770: UserWarning: Possibly corrupt EXIF data.  Expecting to read 5 bytes but only got 0. Skipping tag 271\n",
            "  \" Skipping tag %s\" % (size, len(data), tag)\n",
            "/usr/local/lib/python3.6/dist-packages/PIL/TiffImagePlugin.py:770: UserWarning: Possibly corrupt EXIF data.  Expecting to read 8 bytes but only got 0. Skipping tag 272\n",
            "  \" Skipping tag %s\" % (size, len(data), tag)\n",
            "/usr/local/lib/python3.6/dist-packages/PIL/TiffImagePlugin.py:770: UserWarning: Possibly corrupt EXIF data.  Expecting to read 8 bytes but only got 0. Skipping tag 282\n",
            "  \" Skipping tag %s\" % (size, len(data), tag)\n",
            "/usr/local/lib/python3.6/dist-packages/PIL/TiffImagePlugin.py:770: UserWarning: Possibly corrupt EXIF data.  Expecting to read 8 bytes but only got 0. Skipping tag 283\n",
            "  \" Skipping tag %s\" % (size, len(data), tag)\n",
            "/usr/local/lib/python3.6/dist-packages/PIL/TiffImagePlugin.py:770: UserWarning: Possibly corrupt EXIF data.  Expecting to read 20 bytes but only got 0. Skipping tag 306\n",
            "  \" Skipping tag %s\" % (size, len(data), tag)\n",
            "/usr/local/lib/python3.6/dist-packages/PIL/TiffImagePlugin.py:770: UserWarning: Possibly corrupt EXIF data.  Expecting to read 48 bytes but only got 0. Skipping tag 532\n",
            "  \" Skipping tag %s\" % (size, len(data), tag)\n",
            "/usr/local/lib/python3.6/dist-packages/PIL/TiffImagePlugin.py:788: UserWarning: Corrupt EXIF data.  Expecting to read 2 bytes but only got 0. \n",
            "  warnings.warn(str(msg))\n"
          ],
          "name": "stderr"
        },
        {
          "output_type": "stream",
          "text": [
            "Epoch:1 , train_accuracy:57.07% , train_loss:307.72353065013885, val_accuracy:91.44% , val_loss:32.397815585136414\n",
            "Epoch:2 , train_accuracy:73.02% , train_loss:289.99711561203003, val_accuracy:94.20% , val_loss:28.237288057804108\n",
            "Epoch:3 , train_accuracy:81.52% , train_loss:255.12063017487526, val_accuracy:94.92% , val_loss:21.13437992334366\n",
            "Epoch:4 , train_accuracy:84.99% , train_loss:202.08301529288292, val_accuracy:95.48% , val_loss:13.411485761404037\n",
            "Epoch:5 , train_accuracy:87.13% , train_loss:157.70407509803772, val_accuracy:95.44% , val_loss:9.277756080031395\n",
            "Epoch:6 , train_accuracy:87.86% , train_loss:133.8984208703041, val_accuracy:95.56% , val_loss:7.251259952783585\n",
            "Epoch:7 , train_accuracy:89.17% , train_loss:118.30102896690369, val_accuracy:95.68% , val_loss:6.27814120054245\n",
            "Epoch:8 , train_accuracy:89.64% , train_loss:111.85089392215014, val_accuracy:96.16% , val_loss:5.5679205767810345\n",
            "Epoch:9 , train_accuracy:89.86% , train_loss:106.88071405887604, val_accuracy:96.28% , val_loss:5.312549818307161\n",
            "Epoch:10 , train_accuracy:90.18% , train_loss:103.62165303528309, val_accuracy:96.48% , val_loss:4.777314279228449\n",
            "Epoch:11 , train_accuracy:90.56% , train_loss:98.29262095689774, val_accuracy:96.40% , val_loss:4.74331109598279\n",
            "Epoch:12 , train_accuracy:90.63% , train_loss:97.77602035552263, val_accuracy:96.60% , val_loss:4.405310628935695\n",
            "Epoch:13 , train_accuracy:91.09% , train_loss:93.89125741273165, val_accuracy:96.76% , val_loss:4.292817750945687\n",
            "Epoch:14 , train_accuracy:91.32% , train_loss:90.7129519879818, val_accuracy:96.80% , val_loss:4.0380605440586805\n",
            "Epoch:15 , train_accuracy:91.24% , train_loss:90.57805206626654, val_accuracy:97.04% , val_loss:4.019730638712645\n",
            "Epoch:16 , train_accuracy:91.46% , train_loss:89.47295668721199, val_accuracy:97.24% , val_loss:3.8794808965176344\n",
            "Epoch:17 , train_accuracy:91.48% , train_loss:88.6499989181757, val_accuracy:97.00% , val_loss:3.806023519486189\n",
            "Epoch:18 , train_accuracy:91.49% , train_loss:88.09463851898909, val_accuracy:97.04% , val_loss:3.7013999689370394\n",
            "Epoch:19 , train_accuracy:91.86% , train_loss:85.75042267516255, val_accuracy:97.24% , val_loss:3.6211489122360945\n",
            "Epoch:20 , train_accuracy:91.80% , train_loss:85.76770447939634, val_accuracy:97.24% , val_loss:3.640546975657344\n"
          ],
          "name": "stdout"
        }
      ]
    },
    {
      "cell_type": "code",
      "metadata": {
        "id": "haNfjwrfMKrO",
        "colab_type": "code",
        "colab": {}
      },
      "source": [
        "class PixelNet(nn.Module):\n",
        "    def __init__(self):\n",
        "        super().__init__()\n",
        "        alexnet = models.alexnet(pretrained=True)\n",
        "        self.shallow = ShallowNet(alexnet)\n",
        "        \n",
        "        self.atblock_1 = AttentionBlock(in_channels=384)\n",
        "        self.atblock_2 = AttentionBlock(in_channels=384)\n",
        "        self.W = nn.Sequential(\n",
        "            nn.Conv2d(in_channels=768, out_channels=384, kernel_size=1, stride=1, padding=0),\n",
        "            nn.BatchNorm2d(384),\n",
        "        )\n",
        "        nn.init.constant_(self.W[1].weight, 0)\n",
        "        nn.init.constant_(self.W[1].bias, 0)\n",
        "\n",
        "        # self.V = nn.Conv2d(in_channels=384, out_channels=384, kernel_size=1, stride=1, padding=0)\n",
        "\n",
        "        self.features = Features\n",
        "        self.avgpool = AvgPool\n",
        "        self.fc = Classifier\n",
        "        \n",
        "    def forward(self, t):\n",
        "        t = self.shallow(t)\n",
        "        t_1 = self.atblock_1(t)\n",
        "        t_2 = self.atblock_2(t)\n",
        "        t_ = torch.cat((t_1, t_2), 1)\n",
        "        t_ = self.W(t_)\n",
        "        t = t + t_\n",
        "        # t = self.V(t)\n",
        "\n",
        "        t = self.features(t)\n",
        "        t = self.avgpool(t)\n",
        "        t = t.view(t.size(0), 256 * 6 * 6)\n",
        "        t = self.fc(t)\n",
        "        \n",
        "        return t"
      ],
      "execution_count": 0,
      "outputs": []
    },
    {
      "cell_type": "code",
      "metadata": {
        "id": "OionZy5pN5Yu",
        "colab_type": "code",
        "outputId": "5e676c43-7650-403b-f064-14cb9032a8a5",
        "colab": {
          "base_uri": "https://localhost:8080/",
          "height": 649
        }
      },
      "source": [
        "net = PixelNet().cuda()\n",
        "optimizer = optim.SGD(net.parameters(), lr=0.0001, momentum=0.9)\n",
        "epoch_num = 20\n",
        "\n",
        "for epoch in range(epoch_num):\n",
        "    \n",
        "    train_loss = 0\n",
        "    train_correct = 0\n",
        "    val_loss = 0\n",
        "    val_correct = 0\n",
        "\n",
        "    # train\n",
        "    net.train()\n",
        "    for batch in train_loader:    # Get the batch\n",
        "        images, labels = batch\n",
        "\n",
        "        images = images.cuda()\n",
        "        labels = labels.cuda()\n",
        "        \n",
        "        preds = net(images)   # Pass the batch\n",
        "        loss = F.cross_entropy(preds, labels)    # Calculate the loss\n",
        "\n",
        "\n",
        "        optimizer.zero_grad()\n",
        "        loss.backward()    # Calculate the gradients\n",
        "        optimizer.step()   # Update the weights\n",
        "\n",
        "        train_loss += loss.item()\n",
        "        train_correct += get_num_correct(preds, labels)\n",
        "    \n",
        "    # evaluate\n",
        "    net.eval()\n",
        "    with torch.no_grad():\n",
        "        for batch in val_loader:    # Get the batch\n",
        "            images, labels = batch\n",
        "\n",
        "            images = images.cuda()\n",
        "            labels = labels.cuda()\n",
        "            \n",
        "            preds = net(images)   # Pass the batch\n",
        "            loss = F.cross_entropy(preds, labels)    # Calculate the loss\n",
        "\n",
        "            val_loss += loss.item()\n",
        "            val_correct += get_num_correct(preds, labels)\n",
        "    \n",
        "    print(\"Epoch:{} , train_accuracy:{:.2f}% , train_loss:{}, val_accuracy:{:.2f}% , val_loss:{}\".format(\n",
        "        epoch+1, \n",
        "        train_correct/(50*len(train_loader))*100, train_loss, \n",
        "        val_correct/(50*len(val_loader))*100, val_loss)\n",
        "    )"
      ],
      "execution_count": 0,
      "outputs": [
        {
          "output_type": "stream",
          "text": [
            "/usr/local/lib/python3.6/dist-packages/PIL/TiffImagePlugin.py:770: UserWarning: Possibly corrupt EXIF data.  Expecting to read 32 bytes but only got 0. Skipping tag 270\n",
            "  \" Skipping tag %s\" % (size, len(data), tag)\n",
            "/usr/local/lib/python3.6/dist-packages/PIL/TiffImagePlugin.py:770: UserWarning: Possibly corrupt EXIF data.  Expecting to read 5 bytes but only got 0. Skipping tag 271\n",
            "  \" Skipping tag %s\" % (size, len(data), tag)\n",
            "/usr/local/lib/python3.6/dist-packages/PIL/TiffImagePlugin.py:770: UserWarning: Possibly corrupt EXIF data.  Expecting to read 8 bytes but only got 0. Skipping tag 272\n",
            "  \" Skipping tag %s\" % (size, len(data), tag)\n",
            "/usr/local/lib/python3.6/dist-packages/PIL/TiffImagePlugin.py:770: UserWarning: Possibly corrupt EXIF data.  Expecting to read 8 bytes but only got 0. Skipping tag 282\n",
            "  \" Skipping tag %s\" % (size, len(data), tag)\n",
            "/usr/local/lib/python3.6/dist-packages/PIL/TiffImagePlugin.py:770: UserWarning: Possibly corrupt EXIF data.  Expecting to read 8 bytes but only got 0. Skipping tag 283\n",
            "  \" Skipping tag %s\" % (size, len(data), tag)\n",
            "/usr/local/lib/python3.6/dist-packages/PIL/TiffImagePlugin.py:770: UserWarning: Possibly corrupt EXIF data.  Expecting to read 20 bytes but only got 0. Skipping tag 306\n",
            "  \" Skipping tag %s\" % (size, len(data), tag)\n",
            "/usr/local/lib/python3.6/dist-packages/PIL/TiffImagePlugin.py:770: UserWarning: Possibly corrupt EXIF data.  Expecting to read 48 bytes but only got 0. Skipping tag 532\n",
            "  \" Skipping tag %s\" % (size, len(data), tag)\n",
            "/usr/local/lib/python3.6/dist-packages/PIL/TiffImagePlugin.py:788: UserWarning: Corrupt EXIF data.  Expecting to read 2 bytes but only got 0. \n",
            "  warnings.warn(str(msg))\n"
          ],
          "name": "stderr"
        },
        {
          "output_type": "stream",
          "text": [
            "Epoch:1 , train_accuracy:86.84% , train_loss:132.53957810997963, val_accuracy:95.84% , val_loss:5.695655353367329\n",
            "Epoch:2 , train_accuracy:90.98% , train_loss:95.62001976370811, val_accuracy:96.32% , val_loss:4.918878737837076\n",
            "Epoch:3 , train_accuracy:91.02% , train_loss:91.8436688259244, val_accuracy:96.36% , val_loss:4.669261621311307\n",
            "Epoch:4 , train_accuracy:91.31% , train_loss:89.50559177622199, val_accuracy:96.60% , val_loss:4.610464285127819\n",
            "Epoch:5 , train_accuracy:91.44% , train_loss:87.70735807344317, val_accuracy:96.52% , val_loss:4.454575223848224\n",
            "Epoch:6 , train_accuracy:91.91% , train_loss:85.58611768484116, val_accuracy:96.52% , val_loss:4.300249822437763\n",
            "Epoch:7 , train_accuracy:91.80% , train_loss:84.0840570665896, val_accuracy:96.48% , val_loss:4.398380229249597\n",
            "Epoch:8 , train_accuracy:92.02% , train_loss:84.21032777801156, val_accuracy:96.48% , val_loss:4.442845156416297\n",
            "Epoch:9 , train_accuracy:92.16% , train_loss:81.92918995395303, val_accuracy:96.56% , val_loss:4.328093636780977\n",
            "Epoch:10 , train_accuracy:92.03% , train_loss:82.72661950439215, val_accuracy:96.64% , val_loss:4.214176121167839\n",
            "Epoch:11 , train_accuracy:92.16% , train_loss:81.31860410794616, val_accuracy:96.64% , val_loss:4.158081436529756\n",
            "Epoch:12 , train_accuracy:92.03% , train_loss:82.04037529975176, val_accuracy:96.80% , val_loss:4.09790781326592\n",
            "Epoch:13 , train_accuracy:92.40% , train_loss:80.51206897571683, val_accuracy:96.76% , val_loss:4.058043083176017\n",
            "Epoch:14 , train_accuracy:92.47% , train_loss:79.75276425480843, val_accuracy:96.52% , val_loss:4.120868790894747\n",
            "Epoch:15 , train_accuracy:92.48% , train_loss:78.85479520261288, val_accuracy:96.52% , val_loss:4.155733292922378\n",
            "Epoch:16 , train_accuracy:92.61% , train_loss:79.21360212378204, val_accuracy:96.80% , val_loss:3.9861369794234633\n",
            "Epoch:17 , train_accuracy:92.57% , train_loss:77.61369270458817, val_accuracy:96.64% , val_loss:4.120303365401924\n",
            "Epoch:18 , train_accuracy:92.52% , train_loss:77.90548206865788, val_accuracy:96.64% , val_loss:4.116810178384185\n",
            "Epoch:19 , train_accuracy:92.38% , train_loss:78.95547850057483, val_accuracy:96.56% , val_loss:4.034985531587154\n",
            "Epoch:20 , train_accuracy:92.28% , train_loss:79.74753982573748, val_accuracy:96.64% , val_loss:3.9823734909296036\n"
          ],
          "name": "stdout"
        }
      ]
    },
    {
      "cell_type": "code",
      "metadata": {
        "id": "ZQ2rYraI2eRp",
        "colab_type": "code",
        "colab": {}
      },
      "source": [
        "# 从DataLoader中提取并可视化样本\n",
        "sample_batch = next(iter(train_loader))\n",
        "images, labels = sample_batch"
      ],
      "execution_count": 0,
      "outputs": []
    },
    {
      "cell_type": "code",
      "metadata": {
        "id": "p0GzuGYk3FX_",
        "colab_type": "code",
        "outputId": "53bff69c-54f0-45e9-8f43-cc7ba42267fd",
        "colab": {
          "base_uri": "https://localhost:8080/",
          "height": 303
        }
      },
      "source": [
        "plt.imshow(np.reshape(images[0],(224,224,3)))"
      ],
      "execution_count": 0,
      "outputs": [
        {
          "output_type": "stream",
          "text": [
            "Clipping input data to the valid range for imshow with RGB data ([0..1] for floats or [0..255] for integers).\n"
          ],
          "name": "stderr"
        },
        {
          "output_type": "execute_result",
          "data": {
            "text/plain": [
              "<matplotlib.image.AxesImage at 0x7fb2105ea7f0>"
            ]
          },
          "metadata": {
            "tags": []
          },
          "execution_count": 28
        },
        {
          "output_type": "display_data",
          "data": {
            "image/png": "[encoded data removed]",
            "text/plain": [
              "<Figure size 432x288 with 1 Axes>"
            ]
          },
          "metadata": {
            "tags": [],
            "needs_background": "light"
          }
        }
      ]
    },
    {
      "cell_type": "code",
      "metadata": {
        "id": "jAZ4YSoeSZpJ",
        "colab_type": "code",
        "colab": {}
      },
      "source": [
        "def vis(net, net_input):\n",
        "    def f(net, net_input):\n",
        "        t = net.shallow(net_input)\n",
        "        t_1 = net.atblock_1(t)\n",
        "        t_2 = net.atblock_2(t)\n",
        "        t_ = torch.cat((t_1, t_2), 1)\n",
        "        t_ = net.W(t_)\n",
        "        t = t + t_\n",
        "        return t\n",
        "    sample_image_feature = f(net, sample_image.cuda())\n",
        "    _sample_image_feature = F.upsample_nearest(\n",
        "        sample_image_feature, \n",
        "        size=(224, 224), \n",
        "        scale_factor=None\n",
        "    )\n",
        "    _sample_image_feature = _sample_image_feature.cpu().squeeze().detach().numpy()\n",
        "    _feature = np.zeros(_sample_image_feature[0].shape)\n",
        "    _length = _sample_image_feature.shape[0]\n",
        "    for i in range(_length):\n",
        "        _feature += _sample_image_feature[i]\n",
        "    _feature /= _length\n",
        "    _sample_feature = np.array([_feature,_feature,_feature])\n",
        "    _sample_feature = np.reshape(_sample_feature,(224,224,3))\n",
        "    plt.imshow(_sample_feature)"
      ],
      "execution_count": 0,
      "outputs": []
    },
    {
      "cell_type": "code",
      "metadata": {
        "id": "qdPRtAfmv41F",
        "colab_type": "code",
        "outputId": "a839f096-18e5-4192-ec2f-54f4a15be1f7",
        "colab": {
          "base_uri": "https://localhost:8080/",
          "height": 340
        }
      },
      "source": [
        "sample_image = images[0].unsqueeze(0)\n",
        "vis(net, sample_image)"
      ],
      "execution_count": 0,
      "outputs": [
        {
          "output_type": "stream",
          "text": [
            "/usr/local/lib/python3.6/dist-packages/torch/nn/functional.py:2566: UserWarning: nn.functional.upsample_nearest is deprecated. Use nn.functional.interpolate instead.\n",
            "  warnings.warn(\"nn.functional.upsample_nearest is deprecated. Use nn.functional.interpolate instead.\")\n",
            "Clipping input data to the valid range for imshow with RGB data ([0..1] for floats or [0..255] for integers).\n"
          ],
          "name": "stderr"
        },
        {
          "output_type": "display_data",
          "data": {
            "image/png": "[encoded data removed]",
            "text/plain": [
              "<Figure size 432x288 with 1 Axes>"
            ]
          },
          "metadata": {
            "tags": [],
            "needs_background": "light"
          }
        }
      ]
    }
  ]
}