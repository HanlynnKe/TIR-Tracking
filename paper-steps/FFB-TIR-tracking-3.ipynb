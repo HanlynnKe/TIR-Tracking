{
 "cells": [
  {
   "cell_type": "markdown",
   "metadata": {},
   "source": [
    "# 基于细粒度特征的热红外目标追踪 Part 3"
   ]
  },
  {
   "cell_type": "markdown",
   "metadata": {},
   "source": [
    "## 编码实现细粒度特征提取网络结构"
   ]
  },
  {
   "cell_type": "markdown",
   "metadata": {},
   "source": [
    "这一部分主要是通过构建深层的神经网络，从热红外图像中提取上一部分所定义的细粒度特征。并将细粒度特征网络结构整合为独立的框架，方便下一步骤进行嵌入。"
   ]
  },
  {
   "cell_type": "markdown",
   "metadata": {},
   "source": [
    "*Reference:*\n",
    "\n",
    "Liu Q, Li X, He Z, et al. Multi-Task Driven Feature Models for Thermal InfraredTracking[C]//2020 Thirty-Fourth AAAI Conference on Artificial Intelligence. AAAI, 2020.\n",
    "\n",
    "Vaswani A, Shazeer N, Parmar N, et al. Attention is all you need[C]//Advances in neural information processing systems. 2017: 5998-6008.\n",
    "\n",
    "Wang X, Girshick R, Gupta A, et al. Non-local neural networks[C]//Proceedings of the IEEE conference on computer vision and pattern recognition. 2018: 7794-7803.\n",
    "\n",
    "Cao Y, Xu J, Lin S, et al. Gcnet: Non-local networks meet squeeze-excitation networks and beyond[C]//Proceedings of the IEEE International Conference on Computer Vision Workshops. 2019: 0-0."
   ]
  },
  {
   "cell_type": "markdown",
   "metadata": {},
   "source": [
    "回顾上节，本文提出的细粒度特征提取网络如下所示："
   ]
  },
  {
   "cell_type": "markdown",
   "metadata": {},
   "source": [
    "![encoderDecoder.png](./images4paper/encoderDecoder.png)"
   ]
  },
  {
   "cell_type": "markdown",
   "metadata": {},
   "source": [
    "图中，$\\oplus$表示单位加操作。其中自注意力模块的结构如下图所示："
   ]
  },
  {
   "cell_type": "markdown",
   "metadata": {},
   "source": [
    "![attentionBlockV2.png](./images4paper/attentionBlockV2.png)"
   ]
  },
  {
   "cell_type": "markdown",
   "metadata": {},
   "source": [
    "图中，$\\otimes$表示batch上的矩阵乘法，$\\oplus$表示单位加操作。"
   ]
  },
  {
   "cell_type": "markdown",
   "metadata": {},
   "source": [
    "基于PyTorch，我们实现上文所提出的细粒度特征提取网络："
   ]
  },
  {
   "cell_type": "code",
   "execution_count": 1,
   "metadata": {},
   "outputs": [],
   "source": [
    "import numpy as np\n",
    "import torch\n",
    "import torch.nn as nn\n",
    "import torch.nn.functional as F\n",
    "import torch.optim as optim"
   ]
  },
  {
   "cell_type": "code",
   "execution_count": 2,
   "metadata": {},
   "outputs": [],
   "source": [
    "class AttentionBlock(nn.Module):\n",
    "    def __init__(self, in_channels):\n",
    "        super(AttentionBlock, self).__init__()\n",
    "        \n",
    "        self.in_channels = in_channels\n",
    "        self.out_channels = in_channels\n",
    "\n",
    "        self.conv = nn.Conv2d(self.in_channels, 1, kernel_size=1)\n",
    "        self.softmax = nn.Softmax(dim=2)\n",
    "\n",
    "        self.transformer = nn.Sequential(\n",
    "            nn.Conv2d(self.in_channels, self.out_channels, kernel_size=1),\n",
    "            nn.LayerNorm([self.out_channels, 1, 1]),\n",
    "            nn.ReLU(inplace=True),\n",
    "            nn.Conv2d(self.out_channels, self.in_channels, kernel_size=1)\n",
    "        )\n",
    "        nn.init.constant_(self.transformer[-1].weight, 0)\n",
    "        nn.init.constant_(self.transformer[-1].bias, 0)\n",
    "\n",
    "    def feature_extractor(self, x):\n",
    "        batch, channel, height, width = x.size()\n",
    "        \n",
    "        route_1 = x\n",
    "        # [N, C, H * W]\n",
    "        route_1 = route_1.view(batch, channel, height * width)\n",
    "        # [N, 1, C, H * W]\n",
    "        route_1 = route_1.unsqueeze(1)\n",
    "        \n",
    "        # [N, 1, H, W]\n",
    "        route_2 = self.conv(x)\n",
    "        # [N, 1, H * W]\n",
    "        route_2 = route_2.view(batch, 1, height * width)\n",
    "        # [N, 1, H * W]\n",
    "        route_2 = self.softmax(route_2)\n",
    "        # [N, 1, H * W, 1]\n",
    "        route_2 = route_2.unsqueeze(-1)\n",
    "        \n",
    "        # [N, 1, C, 1]\n",
    "        feature = torch.matmul(route_1, route_2)\n",
    "        # [N, C, 1, 1]\n",
    "        feature = feature.view(batch, channel, 1, 1)\n",
    "\n",
    "        return feature\n",
    "\n",
    "    def forward(self, x):\n",
    "        # [N, C, 1, 1]\n",
    "        feature = self.feature_extractor(x)\n",
    "        fine_grained = self.transformer(feature)\n",
    "        out = x + fine_grained\n",
    "\n",
    "        return out"
   ]
  },
  {
   "cell_type": "code",
   "execution_count": 3,
   "metadata": {},
   "outputs": [],
   "source": [
    "class PixelNet(nn.Module):\n",
    "    def __init__(self):\n",
    "        super().__init__()\n",
    "        \n",
    "        self.conv1 = nn.Sequential(\n",
    "            nn.Conv2d(in_channels=1, out_channels=32, kernel_size=5, stride=1, padding=2),\n",
    "            nn.BatchNorm2d(32),\n",
    "            nn.ReLU(),\n",
    "            nn.MaxPool2d(2),\n",
    "        )\n",
    "\n",
    "        self.conv2 = nn.Sequential(\n",
    "            nn.Conv2d(in_channels=32, out_channels=64, kernel_size=5, stride=1, padding=2),\n",
    "            nn.BatchNorm2d(64),\n",
    "            nn.ReLU(),\n",
    "            nn.MaxPool2d(2),\n",
    "        )\n",
    "        \n",
    "        self.conv3 = nn.Sequential(\n",
    "            nn.Conv2d(in_channels=64, out_channels=32, kernel_size=5, stride=1, padding=2),\n",
    "            nn.BatchNorm2d(32),\n",
    "            nn.ReLU(),\n",
    "            nn.MaxPool2d(2),\n",
    "        )\n",
    "\n",
    "        self.atblock_1 = AttentionBlock(in_channels=32)\n",
    "        self.atblock_2 = AttentionBlock(in_channels=32)\n",
    "        self.W = nn.Sequential(\n",
    "            nn.Conv2d(in_channels=64, out_channels=3, kernel_size=1, stride=1, padding=0),\n",
    "            nn.BatchNorm2d(3),\n",
    "        )\n",
    "        nn.init.constant_(self.W[1].weight, 0)\n",
    "        nn.init.constant_(self.W[1].bias, 0)\n",
    "\n",
    "        \n",
    "\n",
    "        \n",
    "    def forward(self, t):\n",
    "        t = self.conv1(t)\n",
    "\n",
    "        t = self.conv2(t)\n",
    "        \n",
    "        t = self.conv3(t)\n",
    "        \n",
    "        t_1 = self.atblock_1(t)\n",
    "        t_2 = self.atblock_2(t)\n",
    "        t_ = torch.cat((t_1, t_2), 1)\n",
    "        t = t + self.W(t_)\n",
    "\n",
    "        return t"
   ]
  }
 ],
 "metadata": {
  "kernelspec": {
   "display_name": "Python 3",
   "language": "python",
   "name": "python3"
  },
  "language_info": {
   "codemirror_mode": {
    "name": "ipython",
    "version": 3
   },
   "file_extension": ".py",
   "mimetype": "text/x-python",
   "name": "python",
   "nbconvert_exporter": "python",
   "pygments_lexer": "ipython3",
   "version": "3.7.4"
  }
 },
 "nbformat": 4,
 "nbformat_minor": 2
}
